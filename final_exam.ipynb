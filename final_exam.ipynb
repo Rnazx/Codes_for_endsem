{
 "cells": [
  {
   "cell_type": "markdown",
   "metadata": {},
   "source": [
    "# End-Semester Exam"
   ]
  },
  {
   "cell_type": "code",
   "execution_count": 10,
   "metadata": {},
   "outputs": [],
   "source": [
    "import numpy as np\n",
    "import matplotlib.pyplot as plt\n",
    "import lib_for_endsem as lib"
   ]
  },
  {
   "cell_type": "markdown",
   "metadata": {},
   "source": [
    "## Question 2"
   ]
  },
  {
   "cell_type": "markdown",
   "metadata": {},
   "source": [
    "### Helper Functions"
   ]
  },
  {
   "cell_type": "code",
   "execution_count": 11,
   "metadata": {},
   "outputs": [],
   "source": [
    "def legendre_poly(x, order):\n",
    "    if order == 0: return 1\n",
    "    elif order == 1: return x\n",
    "    elif order == 2: return (3*(x**2) - 1) / 2\n",
    "    elif order == 3: return (5*(x**3) - 3*x) / 2\n",
    "    elif order == 4: return (35*(x**4) - 30*(x**2) + 3) / 8\n",
    "    elif order == 5: return (63*(x**5) - 70*(x**3) + 15*x) / 8\n",
    "    elif order == 6: return (231*(x**6) - 315*(x**4) + 105*(x**2) - 5) / 16\n",
    "\n",
    "\n",
    "\n",
    "\n",
    "\n",
    "def legendre_fit(X, Y, d = 3):\n",
    "    n = len(X)\n",
    "    p = d + 1\n",
    "    A = np.zeros((p, p))\n",
    "    b = np.zeros(p)\n",
    "\n",
    "    for i in range(p):\n",
    "        for j in range(p):\n",
    "            sum = 0\n",
    "            for k in range(n):\n",
    "                sum += legendre_poly(X[k], j) * legendre_poly(X[k], i)\n",
    "            A[i, j] = sum\n",
    "\n",
    "    for i in range(p):\n",
    "        sum = 0\n",
    "        for k in range(n):\n",
    "            sum += legendre_poly(X[k], i) * Y[k]\n",
    "        b[i] = sum\n",
    "\n",
    "    x = lib.solvex_lu(A, b)\n",
    "    return x"
   ]
  },
  {
   "cell_type": "markdown",
   "metadata": {},
   "source": [
    "### Main Code"
   ]
  },
  {
   "cell_type": "code",
   "execution_count": 12,
   "metadata": {},
   "outputs": [
    {
     "name": "stdout",
     "output_type": "stream",
     "text": [
      "The coefficients obtained in the legendre functions basis is : [ 0.07003197  0.00430169 -0.01016671  0.01308374  0.11411855 -0.00672697\n",
      " -0.01238456]\n"
     ]
    },
    {
     "data": {
      "image/png": "[encoded data removed]",
      "text/plain": [
       "<Figure size 432x288 with 1 Axes>"
      ]
     },
     "metadata": {
      "needs_background": "light"
     },
     "output_type": "display_data"
    }
   ],
   "source": [
    "f = open('esem4fit.txt', 'r')\n",
    "data = np.genfromtxt(f, delimiter='')\n",
    "f.close()\n",
    "\n",
    "X = data.T[0]\n",
    "Y = data.T[1]\n",
    "\n",
    "order = 6\n",
    "\n",
    "coeff = legendre_fit(X, Y, order)\n",
    "\n",
    "c_0, c_1, c_2, c_3 = coeff[0], coeff[1], coeff[2], coeff[3]\n",
    "\n",
    "print(\"The coefficients obtained in the legendre functions basis is : {}\".format(coeff))\n",
    "\n",
    "x = np.linspace(-1, 1, 100)\n",
    "y = 0\n",
    "for i in range(order):\n",
    "    y += coeff[i] * legendre_poly(x , i)\n",
    "\n",
    "plt.scatter(X, Y, c = 'g', label=\"Datapoints\")\n",
    "plt.plot(x, y, \"y\", label=\"legendre-fit\")\n",
    "\n",
    "plt.legend()\n",
    "plt.show()"
   ]
  },
  {
   "cell_type": "markdown",
   "metadata": {},
   "source": [
    "## Question 4"
   ]
  },
  {
   "cell_type": "markdown",
   "metadata": {},
   "source": [
    "### Helper functions"
   ]
  },
  {
   "cell_type": "code",
   "execution_count": 39,
   "metadata": {},
   "outputs": [],
   "source": [
    "def Legendre(n,x):\n",
    "\tx=np.array(x)\n",
    "\tif (n==0):\n",
    "\t\treturn x*0+1.0\n",
    "\telif (n==1):\n",
    "\t\treturn x\n",
    "\telse:\n",
    "\t\treturn ((2.0*n-1.0)*x*Legendre(n-1,x)-(n-1)*Legendre(n-2,x))/n\n",
    " \n",
    "##################################################################\n",
    "# Derivative of the Legendre polynomials\n",
    "def DLegendre(n,x):\n",
    "\tx=np.array(x)\n",
    "\tif (n==0):\n",
    "\t\treturn x*0\n",
    "\telif (n==1):\n",
    "\t\treturn x*0+1.0\n",
    "\telse:\n",
    "\t\treturn (n/(x**2-1.0))*(x*Legendre(n,x)-Legendre(n-1,x))\n",
    "##################################################################\n",
    "# Roots of the polynomial obtained using Newton-Raphson method\n",
    "def LegendreRoots(polyorder,tolerance=1e-20):\n",
    "        if polyorder<2:\n",
    "            err=1 # bad polyorder no roots can be found\n",
    "        else : \n",
    "            roots=[]\n",
    "            # The polynomials are alternately even and odd functions. So we evaluate only half the number of roots. \n",
    "            for i in range(1,int(polyorder/2) +1):\n",
    "                x = np.cos(np.pi*(i-0.25)/(polyorder+0.5))\n",
    "                error=10*tolerance\n",
    "                iters=0\n",
    "                while (error>tolerance) and (iters<1000):\n",
    "                    dx=-Legendre(polyorder,x)/DLegendre(polyorder,x)\n",
    "                    x=x+dx\n",
    "                    iters=iters+1\n",
    "                    error=abs(dx)\n",
    "                roots.append(x)\n",
    "            # Use symmetry to get the other roots\n",
    "            roots=np.asarray(roots)\n",
    "            if polyorder%2==0:\n",
    "                roots=np.concatenate( (-1.0*roots, roots[::-1]) )\n",
    "            else:\n",
    "                roots=np.concatenate( (-1.0*roots, [0.0], roots[::-1]) )\n",
    "            err=0 # successfully determined roots\n",
    "        return [roots, err]\n",
    "##################################################################\n",
    "# Weight coefficients\n",
    "def GaussLegendreWeights(polyorder):\n",
    "\tW=[]\n",
    "\t[xis,err]=LegendreRoots(polyorder)\n",
    "\tif err==0:\n",
    "\t\tW=2.0/( (1.0-xis**2)*(DLegendre(polyorder,xis)**2) )\n",
    "\t\terr=0\n",
    "\telse:\n",
    "\t\terr=1 # could not determine roots - so no weights\n",
    "\treturn [np.round_(W, decimals=9), np.round_(xis, decimals=9), err]\n",
    "##################################################################\n",
    "# The integral value \n",
    "# func \t\t: the integrand\n",
    "# a, b \t\t: lower and upper limits of the integral\n",
    "# polyorder \t: order of the Legendre polynomial to be used\n",
    "#\n",
    "def GaussLegendreQuadrature(func, polyorder, a, b):\n",
    "\t[Ws,xs, err]= GaussLegendreWeights(polyorder)\n",
    "\tif err==0:\n",
    "\t\tans=(b-a)*0.5*sum( Ws*func( (b-a)*0.5*xs+ (b+a)*0.5 ) )\n",
    "\telse: \n",
    "\t\t# (in case of error)\n",
    "\t\terr=1\n",
    "\t\tans=None\n",
    "\treturn [ans,err]\n",
    "\n",
    "def hand(degree):\n",
    "\tif degree ==4:\n",
    "\t\tzeros = [0.861136311,0.339981043,-0.861136311,-0.339981043]\n",
    "\t\tweights = [0.347854845]\n",
    "\t\treturn"
   ]
  },
  {
   "cell_type": "markdown",
   "metadata": {},
   "source": [
    "### Main Code"
   ]
  },
  {
   "cell_type": "code",
   "execution_count": 40,
   "metadata": {},
   "outputs": [
    {
     "name": "stdout",
     "output_type": "stream",
     "text": [
      "Order    :  4\n",
      "Roots    :  [-0.86113631 -0.33998104  0.33998104  0.86113631]\n",
      "Weights  :  [0.34785485 0.65214515 0.65214515 0.34785485]\n",
      "Integral :  1.7620541803713057\n",
      "Order    :  5\n",
      "Roots    :  [-0.90617985 -0.53846931  0.          0.53846931  0.90617985]\n",
      "Weights  :  [0.23692689 0.47862867 0.56888889 0.47862867 0.23692689]\n",
      "Integral :  1.7628552960514048\n",
      "Order    :  6\n",
      "Roots    :  [-0.93246951 -0.66120939 -0.23861919  0.23861919  0.66120939  0.93246951]\n",
      "Weights  :  [0.17132449 0.36076157 0.46791393 0.46791393 0.36076157 0.17132449]\n",
      "Integral :  1.762730050077202\n",
      "-0.932469514203152\n"
     ]
    }
   ],
   "source": [
    "# The integrand - change as required\n",
    "def func(x):\n",
    "\treturn 1/np.sqrt(x**2 + 1)\n",
    "\n",
    "for i in range(4,7):\n",
    "    order = i\n",
    "    [Ws,xs,err]=GaussLegendreWeights(order)\n",
    "    if err==0:\n",
    "        print(\"Order    : \", order)\n",
    "        print(\"Roots    : \", xs)\n",
    "        print(\"Weights  : \", Ws)\n",
    "    else:\n",
    "        print(\"Roots/Weights evaluation failed\")\n",
    " \n",
    "    # Integrating the function\n",
    "    [ans,err]=GaussLegendreQuadrature(func , order, -1,1)\n",
    "    if err==0:\n",
    "        print( \"Integral : \", ans)\n",
    "    else:\n",
    "        print(\"Integral evaluation failed\")\n",
    "print(xs[0])"
   ]
  },
  {
   "cell_type": "markdown",
   "metadata": {},
   "source": [
    "## Question 1"
   ]
  },
  {
   "cell_type": "markdown",
   "metadata": {},
   "source": [
    "### Helper Functions"
   ]
  },
  {
   "cell_type": "code",
   "execution_count": 14,
   "metadata": {},
   "outputs": [],
   "source": [
    "def mlcg(x):\n",
    "    num = (572*x)%16381\n",
    "    return num\n",
    "\n",
    "def rand_angles(N, seed):\n",
    "    angles = np.zeros(N)\n",
    "    for i in range(N):\n",
    "        if i == 0:\n",
    "            value = mlcg(seed)\n",
    "        else:\n",
    "            value = mlcg(value)\n",
    "        angles[i] = value\n",
    "    \n",
    "    angles = (angles/16381)*2*np.pi        \n",
    "    return angles\n",
    "\n",
    "def walk(steps, seed):\n",
    "    angles = rand_angles(steps, seed)\n",
    "    pos = np.zeros((steps,2))\n",
    "    for i in range(1,steps):\n",
    "        pos[i,:] = pos[i-1,:] + [np.cos(angles[i]), np.sin(angles[i])]\n",
    "    return pos\n",
    "\n",
    "def rms(walk):\n",
    "    return np.sqrt(np.mean([position[0]**2+position[1]**2 for position in walk]))"
   ]
  },
  {
   "cell_type": "markdown",
   "metadata": {},
   "source": [
    "### Main Code"
   ]
  },
  {
   "cell_type": "code",
   "execution_count": 15,
   "metadata": {},
   "outputs": [
    {
     "name": "stdout",
     "output_type": "stream",
     "text": [
      "RMS for 500 numwalks of 200 steps is:  9.140400837751091\n",
      "The value of square root N is:  14.142135623730951\n"
     ]
    }
   ],
   "source": [
    "numwalks = 500\n",
    "steps = 200\n",
    "dimensions = 2\n",
    "\n",
    "#simulate 500 random numwalks of 200 steps in 2 dimensions\n",
    "strolls = np.zeros((numwalks, steps, dimensions))\n",
    "for i in range(numwalks):\n",
    "    #using i+1 as seed\n",
    "    #to get different set of numwalks, use seed = f(i)\n",
    "    #we took f(i) = i+1\n",
    "    strolls[i,:,:] = walk(steps, i+1)\n",
    "\n",
    "    \n",
    "rmses = [rms(walk) for walk in strolls]\n",
    "rms_final = np.mean(rmses)\n",
    "print(\"RMS for 500 numwalks of 200 steps is: \", rms_final)\n",
    "print(\"The value of square root N is: \",np.sqrt(steps))"
   ]
  },
  {
   "cell_type": "markdown",
   "metadata": {},
   "source": [
    "## Question 3"
   ]
  },
  {
   "cell_type": "markdown",
   "metadata": {},
   "source": [
    "### Helper Functions"
   ]
  },
  {
   "cell_type": "code",
   "execution_count": 37,
   "metadata": {},
   "outputs": [],
   "source": [
    "def heat_plotter(points, state, text):\n",
    "    x = np.arange(0, 2.1, 0.1)\n",
    "    y = np.zeros((points + 2))\n",
    "    y[1:-1] = state\n",
    "    plt.plot(x,y, label=text)"
   ]
  },
  {
   "cell_type": "markdown",
   "metadata": {},
   "source": [
    "### Main Code"
   ]
  },
  {
   "cell_type": "code",
   "execution_count": 38,
   "metadata": {},
   "outputs": [
    {
     "data": {
      "image/png": "[encoded data removed]",
      "text/plain": [
       "<Figure size 432x288 with 1 Axes>"
      ]
     },
     "metadata": {
      "needs_background": "light"
     },
     "output_type": "display_data"
    }
   ],
   "source": [
    "total_points = 20 + 1\n",
    "points = total_points - 2\n",
    "dx = 0.1\n",
    "dt = 0.0008\n",
    "a = dt/(dx**2)\n",
    "\n",
    "init_state = np.zeros((points))\n",
    "for i in range(points):\n",
    "    init_state[i] = 20*abs(np.sin(np.pi*(i+1)*0.1))\n",
    "\n",
    "A = np.zeros((points,points))\n",
    "for i in range(points):\n",
    "    A[i,i] = 1-(2*a)\n",
    "    if i+1 < points:\n",
    "        A[i+1,i] = a\n",
    "        A[i,i+1] = a\n",
    "\n",
    "watch = [0,10,20,50,100,500]\n",
    "for i in range(501):\n",
    "    if i == 0:\n",
    "        state = init_state\n",
    "    state = np.matmul(A,state)\n",
    "    \n",
    "    if i in watch:\n",
    "        heat_plotter(points, state, str(i))\n",
    "        \n",
    "plt.legend()\n",
    "plt.show()\n",
    "    "
   ]
  }
 ],
 "metadata": {
  "interpreter": {
   "hash": "c0437015ee5add1dd0dd58b6a9690316d45ab47fd2882b8b35a6836ebd4bb386"
  },
  "kernelspec": {
   "display_name": "Python 3.7.3 32-bit",
   "language": "python",
   "name": "python3"
  },
  "language_info": {
   "codemirror_mode": {
    "name": "ipython",
    "version": 3
   },
   "file_extension": ".py",
   "mimetype": "text/x-python",
   "name": "python",
   "nbconvert_exporter": "python",
   "pygments_lexer": "ipython3",
   "version": "3.7.3"
  },
  "orig_nbformat": 4
 },
 "nbformat": 4,
 "nbformat_minor": 2
}
