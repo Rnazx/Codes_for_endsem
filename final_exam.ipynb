{
 "cells": [
  {
   "cell_type": "markdown",
   "metadata": {},
   "source": [
    "# End-Semester Exam"
   ]
  },
  {
   "cell_type": "code",
   "execution_count": 10,
   "metadata": {},
   "outputs": [],
   "source": [
    "import numpy as np\n",
    "import matplotlib.pyplot as plt\n",
    "import lib_for_endsem as lib"
   ]
  },
  {
   "cell_type": "markdown",
   "metadata": {},
   "source": [
    "## Question 1"
   ]
  },
  {
   "cell_type": "markdown",
   "metadata": {},
   "source": [
    "### Helper Functions"
   ]
  },
  {
   "cell_type": "code",
   "execution_count": 58,
   "metadata": {},
   "outputs": [],
   "source": [
    "def mlcg(x):\n",
    "    num = (572*x)%16381\n",
    "    return num\n",
    "\n",
    "def mlcg_theta(N, seed):\n",
    "    theta = np.zeros(N)\n",
    "    for i in range(N):\n",
    "        if i == 0:\n",
    "            value = mlcg(seed)\n",
    "        else:\n",
    "            value = mlcg(value)\n",
    "        theta[i] = value\n",
    "    \n",
    "    theta = (theta/16381)*2*np.pi        \n",
    "    return theta\n",
    "\n",
    "def rmwalk_2d(steps, seed):\n",
    "    theta = mlcg_theta(steps, seed)\n",
    "    pos = np.zeros((steps,2))\n",
    "    for i in range(1,steps):\n",
    "        pos[i,:] = pos[i-1,:] + [np.cos(theta[i]), np.sin(theta[i])]\n",
    "    return pos\n",
    "\n",
    "def rootmeansquare(walk):\n",
    "    return np.sqrt(np.mean([position[0]**2+position[1]**2 for position in walk]))"
   ]
  },
  {
   "cell_type": "markdown",
   "metadata": {},
   "source": [
    "### Main Code"
   ]
  },
  {
   "cell_type": "code",
   "execution_count": 60,
   "metadata": {},
   "outputs": [
    {
     "name": "stdout",
     "output_type": "stream",
     "text": [
      "Root mean square for 500 numwalks of 200 steps is:  9.140400837751091\n",
      "The value of square root N is:  14.142135623730951\n"
     ]
    }
   ],
   "source": [
    "numwalks = 500\n",
    "steps = 200\n",
    "dimensions = 2\n",
    "\n",
    "#simulate 500 random numwalks of 200 steps in 2 dimensions\n",
    "m_walk = np.zeros((numwalks, steps, dimensions))\n",
    "for i in range(numwalks):\n",
    "    m_walk[i,:,:] = rmwalk_2d(steps, i+1)\n",
    "\n",
    "    \n",
    "rmses = [rootmeansquare(j) for j in m_walk]\n",
    "rms_final = np.mean(rmses)\n",
    "print(\"Root mean square for 500 numwalks of 200 steps is: \", rms_final)\n",
    "print(\"The value of square root N is: \",np.sqrt(steps))\n",
    "\n",
    "'''Root mean square for 500 numwalks of 200 steps is:  9.140400837751091\n",
    "The value of square root N is:  14.142135623730951'''"
   ]
  },
  {
   "cell_type": "markdown",
   "metadata": {},
   "source": [
    "## Question 2"
   ]
  },
  {
   "cell_type": "markdown",
   "metadata": {},
   "source": [
    "### Helper Functions"
   ]
  },
  {
   "cell_type": "code",
   "execution_count": 11,
   "metadata": {},
   "outputs": [],
   "source": [
    "def legendre_poly(x, order):\n",
    "    if order == 0: return 1\n",
    "    elif order == 1: return x\n",
    "    elif order == 2: return (3*(x**2) - 1) / 2\n",
    "    elif order == 3: return (5*(x**3) - 3*x) / 2\n",
    "    elif order == 4: return (35*(x**4) - 30*(x**2) + 3) / 8\n",
    "    elif order == 5: return (63*(x**5) - 70*(x**3) + 15*x) / 8\n",
    "    elif order == 6: return (231*(x**6) - 315*(x**4) + 105*(x**2) - 5) / 16\n",
    "\n",
    "\n",
    "\n",
    "\n",
    "\n",
    "def legendre_fit(X, Y, d = 3):\n",
    "    n = len(X)\n",
    "    p = d + 1\n",
    "    A = np.zeros((p, p))\n",
    "    b = np.zeros(p)\n",
    "\n",
    "    for i in range(p):\n",
    "        for j in range(p):\n",
    "            sum = 0\n",
    "            for k in range(n):\n",
    "                sum += legendre_poly(X[k], j) * legendre_poly(X[k], i)\n",
    "            A[i, j] = sum\n",
    "\n",
    "    for i in range(p):\n",
    "        sum = 0\n",
    "        for k in range(n):\n",
    "            sum += legendre_poly(X[k], i) * Y[k]\n",
    "        b[i] = sum\n",
    "\n",
    "    x = lib.solvex_lu(A, b)\n",
    "    return x"
   ]
  },
  {
   "cell_type": "markdown",
   "metadata": {},
   "source": [
    "### Main Code"
   ]
  },
  {
   "cell_type": "code",
   "execution_count": 54,
   "metadata": {},
   "outputs": [
    {
     "name": "stdout",
     "output_type": "stream",
     "text": [
      "The coefficients obtained in the legendre functions basis is : [ 0.07003197  0.00430169 -0.01016671  0.01308374  0.11411855 -0.00672697\n",
      " -0.01238456]\n"
     ]
    },
    {
     "data": {
      "image/png": "[encoded data removed]",
      "text/plain": [
       "<Figure size 432x288 with 1 Axes>"
      ]
     },
     "metadata": {
      "needs_background": "light"
     },
     "output_type": "display_data"
    }
   ],
   "source": [
    "f = open('esem4fit.txt', 'r')\n",
    "data = np.genfromtxt(f, delimiter='')\n",
    "f.close()\n",
    "\n",
    "X = data.T[0]\n",
    "Y = data.T[1]\n",
    "\n",
    "order = 6\n",
    "\n",
    "coeff = legendre_fit(X, Y, order)\n",
    "\n",
    "c_0, c_1, c_2, c_3 = coeff[0], coeff[1], coeff[2], coeff[3]\n",
    "\n",
    "print(\"The coefficients obtained in the legendre functions basis is : {}\".format(coeff))\n",
    "\n",
    "x = np.linspace(-1, 1, 100)\n",
    "y = 0\n",
    "for i in range(order):\n",
    "    y += coeff[i] * legendre_poly(x , i)\n",
    "\n",
    "plt.scatter(X, Y, c = 'g', label=\"Datapoints\")\n",
    "plt.plot(x, y, \"y\", label=\"legendre-fit\")\n",
    "plt.xlabel('x')\n",
    "plt.ylabel('y')\n",
    "plt.legend()\n",
    "plt.savefig('legendre_fit_deg'+str(order)+'.png')\n",
    "plt.show()\n",
    "\n",
    "'''The coefficients obtained in the legendre functions basis is : [ 0.07003197  0.00430169 -0.01016671  0.01308374  0.11411855 -0.00672697\n",
    " -0.01238456]'''\n"
   ]
  },
  {
   "cell_type": "markdown",
   "metadata": {},
   "source": [
    "##### The order of the polynomial which appropriately fits the data is 6"
   ]
  },
  {
   "cell_type": "markdown",
   "metadata": {},
   "source": [
    "## Question 3"
   ]
  },
  {
   "cell_type": "markdown",
   "metadata": {},
   "source": [
    "### Main Code"
   ]
  },
  {
   "cell_type": "code",
   "execution_count": 57,
   "metadata": {},
   "outputs": [
    {
     "data": {
      "image/png": "[encoded data removed]",
      "text/plain": [
       "<Figure size 432x288 with 1 Axes>"
      ]
     },
     "metadata": {
      "needs_background": "light"
     },
     "output_type": "display_data"
    }
   ],
   "source": [
    "nx = 19\n",
    "dx = 0.1\n",
    "dt = 0.0008\n",
    "a = dt/(dx**2)\n",
    "\n",
    "state_t0 = np.zeros((nx))\n",
    "for i in range(nx):\n",
    "    state_t0[i] = 20*abs(np.sin(np.pi*(i+1)*0.1))\n",
    "\n",
    "A = np.zeros((nx,nx))\n",
    "for i in range(nx):\n",
    "    A[i,i] = 1-(2*a)\n",
    "    if i+1 < nx:\n",
    "        A[i+1,i] = a\n",
    "        A[i,i+1] = a\n",
    "\n",
    "watch = [0,10,20,50,100,500]\n",
    "for i in range(501):\n",
    "    if i == 0:\n",
    "        state = state_t0\n",
    "    state = np.matmul(A,state)\n",
    "    \n",
    "    if i in watch:\n",
    "        x = np.arange(0, 2.1, dx)\n",
    "        y = np.zeros((nx + 2))\n",
    "        y[1:-1] = state\n",
    "        plt.plot(x,y, label='t ='+str(i))\n",
    "        \n",
    "plt.xlabel('Length of rod')\n",
    "plt.ylabel('Temperature')\n",
    "plt.legend()\n",
    "plt.savefig('temperature_profile.png')\n",
    "plt.show()\n",
    "    "
   ]
  },
  {
   "cell_type": "markdown",
   "metadata": {},
   "source": [
    "## Question 4"
   ]
  },
  {
   "cell_type": "markdown",
   "metadata": {},
   "source": [
    "### Helper functions"
   ]
  },
  {
   "cell_type": "code",
   "execution_count": 62,
   "metadata": {},
   "outputs": [],
   "source": [
    "def legendre(n,x):\n",
    "\tx=np.array(x)\n",
    "\tif (n==0):\n",
    "\t\treturn x*0+1.0\n",
    "\telif (n==1):\n",
    "\t\treturn x\n",
    "\telse:\n",
    "\t\treturn ((2.0*n-1.0)*x*legendre(n-1,x)-(n-1)*legendre(n-2,x))/n\n",
    " \n",
    "##################################################################\n",
    "# Derivative of the legendre polynomials\n",
    "def Dlegendre(n,x):\n",
    "\tx=np.array(x)\n",
    "\tif (n==0):\n",
    "\t\treturn x*0\n",
    "\telif (n==1):\n",
    "\t\treturn x*0+1.0\n",
    "\telse:\n",
    "\t\treturn (n/(x**2-1.0))*(x*legendre(n,x)-legendre(n-1,x))\n",
    "##################################################################\n",
    "# Roots of the polynomial obtained using Newton-Raphson method\n",
    "def legendreroots(polyorder,tolerance=1e-20):\n",
    "        if polyorder<2:\n",
    "            err=1 # bad polyorder no roots can be found\n",
    "        else : \n",
    "            roots=[]\n",
    "            # The polynomials are alternately even and odd functions. So we evaluate only half the number of roots. \n",
    "            for i in range(1,int(polyorder/2) +1):\n",
    "                x = np.cos(np.pi*(i-0.25)/(polyorder+0.5))\n",
    "                error=10*tolerance\n",
    "                iters=0\n",
    "                while (error>tolerance) and (iters<1000):\n",
    "                    dx=-legendre(polyorder,x)/Dlegendre(polyorder,x)\n",
    "                    x=x+dx\n",
    "                    iters=iters+1\n",
    "                    error=abs(dx)\n",
    "                roots.append(x)\n",
    "            # Use symmetry to get the other roots\n",
    "            roots=np.asarray(roots)\n",
    "            if polyorder%2==0:\n",
    "                roots=np.concatenate( (-1.0*roots, roots[::-1]) )\n",
    "            else:\n",
    "                roots=np.concatenate( (-1.0*roots, [0.0], roots[::-1]) )\n",
    "            err=0 # successfully determined roots\n",
    "        return [roots, err]\n",
    "##################################################################\n",
    "# Weight coefficients\n",
    "def GausslegendreWeights(polyorder):\n",
    "\tW=[]\n",
    "\t[xis,err]=legendreroots(polyorder)\n",
    "\tif err==0:\n",
    "\t\tW=2.0/( (1.0-xis**2)*(Dlegendre(polyorder,xis)**2) )\n",
    "\t\terr=0\n",
    "\telse:\n",
    "\t\terr=1 # could not determine roots - so no weights\n",
    "\treturn [np.round_(W, decimals=9), np.round_(xis, decimals=9), err]\n",
    "##################################################################\n",
    "\n",
    "def GausslegendreQuadrature(func, polyorder, a, b):\n",
    "\t[Ws,xs, err]= GausslegendreWeights(polyorder)\n",
    "\tif err==0:\n",
    "\t\tans=(b-a)*0.5*sum( Ws*func( (b-a)*0.5*xs+ (b+a)*0.5 ) )\n",
    "\telse: \n",
    "\t\t# (in case of error)\n",
    "\t\terr=1\n",
    "\t\tans=None\n",
    "\treturn [ans,err]"
   ]
  },
  {
   "cell_type": "markdown",
   "metadata": {},
   "source": [
    "### Main Code"
   ]
  },
  {
   "cell_type": "code",
   "execution_count": 63,
   "metadata": {},
   "outputs": [
    {
     "name": "stdout",
     "output_type": "stream",
     "text": [
      "Order    :  4\n",
      "Roots    :  [-0.86113631 -0.33998104  0.33998104  0.86113631]\n",
      "Weights  :  [0.34785485 0.65214516 0.65214516 0.34785485]\n",
      "Integral :  1.7620541801612164\n",
      "Order    :  5\n",
      "Roots    :  [-0.90617985 -0.53846931  0.          0.53846931  0.90617985]\n",
      "Weights  :  [0.23692689 0.47862867 0.56888889 0.47862867 0.23692689]\n",
      "Integral :  1.7628552952263554\n",
      "Order    :  6\n",
      "Roots    :  [-0.93246951 -0.66120939 -0.23861919  0.23861919  0.66120939  0.93246951]\n",
      "Weights  :  [0.17132449 0.36076157 0.46791394 0.46791394 0.36076157 0.17132449]\n",
      "Integral :  1.7627300504451417\n"
     ]
    }
   ],
   "source": [
    "# The integrand - change as required\n",
    "def func(x):\n",
    "\treturn 1/np.sqrt(x**2 + 1)\n",
    "\n",
    "for i in range(4,7):\n",
    "    order = i\n",
    "    [Ws,xs,err]=GausslegendreWeights(order)\n",
    "    if err==0:\n",
    "        print(\"Order    : \", order)\n",
    "        print(\"Roots    : \", xs)\n",
    "        print(\"Weights  : \", Ws)\n",
    "    else:\n",
    "        print(\"Roots/Weights evaluation failed\")\n",
    " \n",
    "    # Integrating the function\n",
    "    [ans,err]=GausslegendreQuadrature(func , order, -1,1)\n",
    "    if err==0:\n",
    "        print( \"Integral : \", ans)\n",
    "    else:\n",
    "        print(\"Integral evaluation failed\")\n",
    "\n",
    "'''Order    :  4\n",
    "Roots    :  [-0.86113631 -0.33998104  0.33998104  0.86113631]\n",
    "Weights  :  [0.34785485 0.65214516 0.65214516 0.34785485]\n",
    "Integral :  1.7620541801612164\n",
    "Order    :  5\n",
    "Roots    :  [-0.90617985 -0.53846931  0.          0.53846931  0.90617985]\n",
    "Weights  :  [0.23692689 0.47862867 0.56888889 0.47862867 0.23692689]\n",
    "Integral :  1.7628552952263554\n",
    "Order    :  6\n",
    "Roots    :  [-0.93246951 -0.66120939 -0.23861919  0.23861919  0.66120939  0.93246951]\n",
    "Weights  :  [0.17132449 0.36076157 0.46791394 0.46791394 0.36076157 0.17132449]\n",
    "Integral :  1.7627300504451417'''"
   ]
  },
  {
   "cell_type": "code",
   "execution_count": null,
   "metadata": {},
   "outputs": [],
   "source": []
  }
 ],
 "metadata": {
  "interpreter": {
   "hash": "c0437015ee5add1dd0dd58b6a9690316d45ab47fd2882b8b35a6836ebd4bb386"
  },
  "kernelspec": {
   "display_name": "Python 3.7.3 32-bit",
   "language": "python",
   "name": "python3"
  },
  "language_info": {
   "codemirror_mode": {
    "name": "ipython",
    "version": 3
   },
   "file_extension": ".py",
   "mimetype": "text/x-python",
   "name": "python",
   "nbconvert_exporter": "python",
   "pygments_lexer": "ipython3",
   "version": "3.7.3"
  },
  "orig_nbformat": 4
 },
 "nbformat": 4,
 "nbformat_minor": 2
}
